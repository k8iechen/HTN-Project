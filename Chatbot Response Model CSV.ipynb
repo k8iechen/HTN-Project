{
 "cells": [
  {
   "cell_type": "code",
   "execution_count": 1,
   "metadata": {},
   "outputs": [
    {
     "name": "stdout",
     "output_type": "stream",
     "text": [
      "curses is not supported on this machine (please install/reinstall curses for an optimal experience)\n"
     ]
    }
   ],
   "source": [
    "# things we need for NLP\n",
    "import nltk\n",
    "from nltk.stem.lancaster import LancasterStemmer\n",
    "stemmer = LancasterStemmer()\n",
    "\n",
    "# things we need for Tensorflow\n",
    "import numpy as np\n",
    "import tflearn\n",
    "import tensorflow as tf\n",
    "import random\n",
    "import re\n",
    "import unicodedata\n",
    "import sys"
   ]
  },
  {
   "cell_type": "code",
   "execution_count": 2,
   "metadata": {},
   "outputs": [
    {
     "name": "stdout",
     "output_type": "stream",
     "text": [
      "words: ['a bm cac can commod crap defec deject faec fec mak mat ord pot potty shit stool tak throne til toilet', 'ab abdomin musc', 'abbrevy abridg boil com contract decoct deoxid dilut foreshort keep melt out quash repress rockbottom scal shrink slim subdu subjug tight trim', 'abdom abid bear bel breadbasket brook digest end out put stand stick suff support tol tum tummy vent', 'abdomin', 'abdomin cav vent', 'abid bel brook end put stick suff tol tummy vent', 'abject ber blu bring brok crush deplet depress dispirit downcast downheart frown gloom glow grim humbl humy let lour low lowdown lowpitch lowspirit lowton mis mou scummy scurvy smal the turn', 'abl brain brainiac brainpow capac einstein encephalon head learn mastermind ment mind nou psych wit', 'ablaz conflagr enkindl fir heat ignit inflam kindl red stir up wak', 'abomin atrocy dread pain terr unspeak', 'about almost approach approxim cheesep com dear go most near nigh pennypinch skinny virt wellnigh', 'abrupt brusk brusqu circuit curt forget inadequ littl myop poor scant short shortchang shortcircuit shortsight shortstop sud unaw unforesight unret', 'abs escap leav miss neglect omit overleap overlook pretermit', 'ac adept aesthes champ dat esthes expery facul geni hotshot impress mav mavin sens senty star superst virtuoso whiz whizz wiz wizard', 'acc acu agu discrimin incid keen knifelik needlelik penet pierc sharp', 'acceiv back bury eat get immers liv swallow unsay with withdraw', 'accel blow blust boast brag flat gas gasconad gasol gasolin gun nat ped petrol stat swash throttle tout vaunt', 'acerb acrimony icter jaund tart thorny', 'ach hurt lanct pin smart suff yearn yen', 'achy lanct smart yearn', 'acquit arc assoil clear complet discharg dismiss dismit dispatch drop eject elect emit empty exculp exhaust exon expel fre go must out outpo releas run sack set spark unload waiv', 'across ascertain ass behold car check consid constru control determin discov encount ens escort examin eyesight fig find go hear in ins into it lin look meet perceiv pict real reckon regard see sight tak through understand view visit watch wit word', 'act ar gend pract sex up urg', 'acut intens vivid', 'address or pres produc speak speechmak ut', 'adept champ esthes facul hotshot mav sens star virtuoso whizz wizard', 'adipos avoirdupo blub fat fatty fertil fil flesh juicy plump rich up', 'adnorm', 'aer air airwav atmosph aur avy bar beam breez broadcast gentl lin melod melody phrase publ send strain transmit travel tun vent ventil zephyr', 'affair thing', 'affect attend bid boat crank cranky fond leg lovesom pinnac sensit ship stamp supply tippy untough warm', 'afflict huffy mad pain raw sensit sor tend', 'aft afterward lat subsequ', 'aggrav annoy both discomfort excit innerv irrit piqu provoc temp vex', 'agr apprehend empath inf interpret read real reason savvy see sympath sympathy transl understand', 'ail anct ass hurt inflict neck nuis sens troubl', 'aim billet blank com commit direct hom ident invest lay lieu loc ord piazz plaz pos posit property rang rat seat set sho sit spac stat stead target', 'airless clos stodgy stuffy unair', 'al awak fir ignit rous up', 'alexand brok cecil david depress down downcast first gloom humbl in lowdown lowspirit mis moo mou scurvy sir the', 'allfir bal blink bloody bloom crash damn flam fuck', 'aloud brassy cheap flash flashy gar gaudy gimcrack loud meretricy tacky tatty tawdry trashy', 'alt chang commut convert deep exchang interchang mod shift switch transf vary', 'an', 'anatom bod build chass config conform conto determin embody europ flesh forg fram headquart influ mold mould pattern pow reg shap suprem', 'anatrop invert revers upsidedown', 'ancestry bloodlin desc of origin pedigr proflig rak rakehel rip rou stemm stock', 'anct ass hurt inflict nuis sens troubl', 'angl burd burth exerc of slant unit weight weighty', 'antsy fidg fret itchy', 'apart billet blem blob blot dappl daub descry discern distinct espy fleck flo mac musc musca out patch pick pip plac posit post recogn situ slur smear smirch smudg speckl spot spotlight spy stain tel topograph touch volit', 'apathy indiff spiritless', 'app bowel campaign caus crusad drift driv effort front mot motil mov soc trend', 'appet appetit', 'appetit', 'apprehend empath intellect interpret real savvy sympath transl', 'ar awak rous wak', 'arc clear discharg dismit down drop elect empty exhaust expel fre lib must out put run set unload waiv', 'arc clear discharg dismit down eject emit exculp exon fir go must out put run set unload waiv', 'arm branch build fort gird limb sleev subdivid system weapon', 'armp', 'around basebal dangl get golf jiv lilt mus ov shot stroke sway sweep swing vacil', 'arrest develop infantil regress', 'artic articulatio cigaret join joint junct marijuan reef roast spliff', 'articulatio join junct reef spliff', 'aspect bold brass cas cheek confront express fac font fount grimac look nerv sid typefac', 'assess decid jud judg mind opin perspicac sag sagac sound', 'assocy comp comrad convers famili fellow intim', 'astir improv upward', 'at bit burn caut combust cut electrocut glow incin off stak sting sunburn the', 'auror break cockcrow dawn day daybreak dayspr first forenoon good morn sunr sunup tim', 'aust dang grav griev hard knockout lifethr sery sev spart stark stern terr wick', 'auth compos composit indit mat pen piec sav spel to writ', 'aw cogn conscy know', 'back down eat immers swallow unsay with', 'backbon backrest backward bet bind book column cov dors endors gag gam hind indors plump plunk punt rach rear rearward second spin support vertebr', 'backdown climbdown detach drug interrupt method out secess', 'backtalk cav fiss lip mouthpiec or rim sass speak talk ut verb', 'backtalk fiss mou mouthpiec rim speak ut', 'bal bloody crash flam', 'ballock bollock eg nut orch test testic', 'ballock eg orch testic', 'balmy meek mild modest', 'barf be cast cat chuck disgorg emes honk puk purg regorg regurgit retch spew spu throw upchuck vomit', 'bark clamb hid par peel pelt scramble scrape shin shinny skin sput struggle tegu', 'battl blazon cal clam cry egregy exclaim exig flagr glar gross hol hollo insist inst outcry ral scream shout squal voc war watchword weep yel', 'be cat disgorg honk purg regurgit sick spew throw upchuck', 'be cat disgorg honk purg regurgit sick spu up upchuck', 'be cat disgorg honk purg regurgit sick spu up vomit', 'be cont design plan prep project provid', 'becloud befog cloud corrupt defil fog haz mist mottl obnubl ov overcast taint', 'bellyach gastralg stomach stomachach', 'benight black col colo dark darkskin dingy disconsol dism dour drab dre drear gloom glum in moody moros night nighttim nonwhit obsc saturnin shadow sin sorry sour sul', 'benumb blunt bor damp dens dim dul dumb hoh irksom lead muffl mut numb obtus pal slow slug soft tedy thud tiresom ton wearisom', 'besot blind blotto buckram cadav clay cockey corps crock drunk firm fuddl load pieey pixil plast remain rigid slop slosh smash soak sous sozzl squiffy starchy steadfast steady stiff strong tight unbend unfalt unshak unwav wet', 'between betwixt tween', 'bit caut cut electrocut glow off sting the', 'bleb blist bull scald ves whip', 'blee blood haemorrh hemorrh leech phlebotomise phlebotomize shed', 'blizzard effloresc foolhardy heady rash reckless roseol', 'blo', 'blood bloodlin lin origin pedigr rak rip stemm', 'blood hemorrh phlebotomise run', 'blood hemorrh phlebotomise run shed', 'bloodr bolshevik bolshy carmin cer cherry cherryr crimson flush ink loss marx redfac riv ruby rubyr ruddy scarlet viol', 'bm campaign crusad driv front motil soc', 'bm can crap deject fec mat pot shit tak til', 'board comput mem rememb stor', 'body consist dead eubst person phys soundbox structure torso trunk', 'body funct nat process', 'bolshevik carmin cherry crimson ink marx redfac ruby ruddy viol', 'boob bosom chest knock meat summit tit titty whit', 'bosom chest knock summit titty', 'both cark discommod disoblig disord disquiet distract disturb fuss hassl incommod inconveny oneself pain perturb put unh upset', 'bouff gusty intumesc puffy tumesc tumid turgid', 'bowel gut intestin', 'brawn brawny hefty musclem muscul sinew tissu', 'brawny musc musclem sinew', 'brawny musc muscul tissu', 'bre', 'brea breath catch eupn eupno extern on respir rest suspir ventil', 'brea hint plac spel', 'breakw bulwark groin groyn ingu jetty mol seawal', 'breast bureau chest draw dress pect thorax', 'brusqu gruff trunt', 'buck bust charg deplum displum down fierc lachrym lacrim pluck pul rupt shoot snap tear triggerhappy veh wat', 'bulg bump excresc extrud gib gibbos hump jut lump promin protrud protub puff swel tumefy up wel', 'bump extrud gibbos intumesc jut promin protub puffy tumefy up', 'bump extrud gibbos intumesc lump protrud puff swel tumesc wel', 'burd down exerc of system unit weighty', 'bureau draw of pect', 'buy frequ haunt patron shop spons', 'buy haunt shop', 'carn coit congress cop intercours knowledg rel soc', 'casual depart depr exit expir going loss pass personnel releas', 'catamen flow geolog mens menstru period point stop tim', 'ceaseless changeless const incess inv invary neverend perpet quant unceas unremit unv', 'cent ey eyebal heart middl ocul opt', 'cephalalg concern head headach worry', 'cephalalg head vex', 'cephalalg head vex worry', 'cervix neck out', 'chang convert exchang mod switch vary', 'chil cool frisson gelid icy quiv shiv shud thrill tingl', 'childlik dewyey dimwit el mer roundey simpl simplemind simpleton uncomply unproblem unsubdivid wideey', 'chor lab task tax undertak', 'chronic invet', 'chunk clod clump colloc gawk glob goon hunk lout lub lummox oaf stumbleb swel', 'clamb hid peel scramble shin skin struggle', 'class cours degr form grad ground level mark plac rang rank rat scor tier', 'claycol', 'clim humo mood', 'clin cris disord econom gre imprint nat slump', 'clip clock dimend four met prison sent tim', 'clos stuffy', 'cold coldblood common dusty frigid inhum insens moth stal', 'coldshould flimsy fragil littl rebuff slend slight slim svelt tenu thin', 'compl discharg fil fin mak nail', 'compuls fix obsess', 'conceit egot puff selfconceit swol swollenhead tumesc vain', 'condit fig ful term termin', 'confus disarray discombob mixup muddy', 'congest overcrowd', 'consist eubst person soundbox torso', 'constip impair irregul stult', 'consum corrod eat fee out rust up us wip', 'continu dur leng', 'cool frisson icy quiv shud tingl', 'coordin', 'cough', 'cramp halt hamp iron spasm strangle', 'dang griev knockout sery spart stern wick', 'debl decrepit faint fall feebl frail imperfect infirm rick sapless unacc watery', 'decreas dimin fal less min reduc', 'deepset dip drop go laps pass recess settl sink slid subsid sunk und', 'deficy lack miss want', 'depart exit going loss personnel releas', 'desquam discas disrob flak par shed strip uncas uncloth undress', 'diarrhe diarrhoe of', 'diarrhe loos of', 'diarrhe loos the', 'diet', 'difficul difficult troubl', 'difficult', 'disarray ment mixup', 'disarray ment muddy', 'distraint distress straiten', 'dizzy giddy lighthead vertigo', 'doe fre getupandgo of push vig vigo vim vit zip', 'doe fre muscul push vigo vit', 'doubl effigy envid epitom fant funct icon ikon im lookalik of paradigm person pict prototyp see simulacr speech trop', 'drain', 'drowsy sleepy somnol', 'dry juiceless prohibit teetot wry', 'duty fag fatigu jad outwear tir upon wear weary', 'duty fatigu out outwear tir wear', 'duty fatigu out pal tir wear', 'duty fatigu out pal upon weary', 'dyspeps indigest upset', 'easy escap fre idl inform larg lax let lib light loos on op promiscu relax releas slack slut unaffix unleash unloos wanton', 'effloresc heady reckless skin', 'ejac interject', 'emin gamey gamy gear height high highpitch highschool luxury mellow rich school seny spirit', 'energy estr heat hot inflam oestr plant rut system temp wak', 'erect hardon', 'etern kip nap quiet sleep slumb som sop zs', 'ey heart ocul', 'eyebal orb', 'fail helpless impuiss', 'famy hum kin', 'fars farsight foresight hank long longsight prospicy recollect ret ten', 'febr febril fev pyrex', 'febril pyrex', 'ferv fervo ignit kindl red', 'fidg itchy', 'fig lick puzzl resolv solv work', 'flak peel', 'flow geolog menstru period stop', 'fluid runny', 'food for intellect nour nutry solid thought', 'for nour solid', 'forget', 'gamey gear high highschool luxury rich seny up', 'gland secret', 'grad surmount', 'gram kiloc kilogram nutrit', 'gut', 'halt iron spasm', 'halt strangle', 'heatburn', 'helpless weak', 'hloss', 'horn in intrud nos nozzl nuzzl olfact org pok pry scent wind', 'huffy pain sensit tend', 'hum humo mood', 'hurt pin suff yen', 'in nos nuzzl org pry wind', 'irrit sor', 'itch rub scratch spoil', 'itchy', 'job problem', 'lack want', 'leak mict pass peep penny piss puddl reliev spend urin wee', 'leak mict pass peep piddl puddl spend urin wee', 'leg peg pegleg ram stag wood', 'log saw snor stert', 'los mislay misplac', 'lymph', 'mamill mammill nippl pap teat', 'mammill pap tit', 'meek modest', 'memb pen phall', 'micturit', 'nause sick', 'of siz', 'onesid', 'opt vis', 'palsy paralys', 'pee piddl piss urin wat weew', 'pen', 'peren recur rep', 'pharynx throat', 'piddl urin weew', 'pneumon', 'problem', 'rapid speedy', 'red', 'red rub', 'reek washy watery weak', 'respir', 'restless uneasy ungrat unsatisfy', 'restrict', 'runny', 'sick', 'sleepy', 'sneez sternut', 'spac spat', 'speedy', 'sternut', 'syndrom', 'tenderswol', 'throat', 'undigest', 'urin', 'vagin', 'washy weak', 'yo']\n",
      "classes: ['Acute Headache ', 'Allergies', 'Alzheimer', 'Avian Influenza', 'Breast Cancer', 'Chickenpox', 'Chlamydia', 'Chronic Headache ', 'Common Cold', 'Conjunctivitis', 'Coronary Heart Disease', \"Crohn's Disease\", 'Dermatitis', 'E Coli Infection', 'Eating Disorders including Anorexia & Bulimia Nervosa', 'HBV;Liver infection', 'Hepatitis B', 'Influenza', 'Intestinal Gas', 'Irritable Bowel Syndrome (IBS)', 'Nausea and Vomiting', 'Pregrancy', 'Prostate Cancer', 'Sleep Apnea', 'Stroke', 'Swine Influenza', 'West Nile Virus', 'Zika Virus']\n",
      "classes details: [{'synonyms': 'Upper Respiratory Tract;Nose and Throat Infection', 'treatments': 'Stay hydrated;rest;sooth a sore throat using saltwater gargle;take over the counter cold and cough medications\\n', 'class': 'Common Cold', 'danger level': '1'}, {'synonyms': 'Allergic Reaction', 'treatments': 'Remove the cause of allergy; \\notherwise take Antihistamines to relieve sneezing;Decongestants to relieve congestions in nasal membranes;Anti inflamary agents to reduce;Allergy shots', 'class': 'Allergies', 'danger level': '1'}, {'synonyms': 'Pink Eye', 'treatments': 'See a doctor;Bacterial cases can be treated with antibiotic eye drops;Allergic reactions can be treated with other eye drops', 'class': 'Conjunctivitis', 'danger level': '1'}, {'synonyms': 'Diarrhea', 'treatments': 'Diarrhea will typically go away in 2 days;Consult a physician if you experience severe stomach or rectum pain, fever, or diarrhea lasting longer than 3 days', 'class': 'Irritable Bowel Syndrome (IBS)', 'danger level': '1'}, {'synonyms': 'migraine;Headache ', 'treatments': 'Sleep and rest;Icepack over eyes or head;Moderate use of OTC medicines such as acetaminophen, aspirin, or ibuprofen may relieve pain', 'class': 'Acute Headache ', 'danger level': '1'}, {'synonyms': 'Tension type;Headache ', 'treatments': 'Sleep and rest;icepack over eyes or head;Note: overuse of pain relieving medicines may result in \"analgesic rebound headaches\"', 'class': 'Chronic Headache ', 'danger level': '1'}, {'synonyms': 'Stomach Ache', 'treatments': 'Take digestive enzyme supplements, such as Beano and lactase supplements;Eat several small meals throughout the day instead of two or three large ones;Take a stroll after each meal', 'class': 'Intestinal Gas', 'danger level': '1'}, {'synonyms': 'Labrynthitis;Stomach ulcers;Hepatitis;Meningitis', 'treatments': 'Most cases resolve within a couple days without treatments;Avoid food and water that may be contaminated;Wash your hands thoroughly and frequently;Avoid sharing eating utencils', 'class': 'Nausea and Vomiting', 'danger level': '1'}, {'synonyms': '', 'treatments': 'Visit a hospital immediately', 'class': 'E Coli Infection', 'danger level': '1'}, {'synonyms': 'Sexually Transmitted Infection (STI)', 'treatments': 'See a professional doctor;Use Azithromycin or Doxycycline', 'class': 'Chlamydia', 'danger level': '4'}, {'synonyms': 'Flu', 'treatments': 'Mild flu treated with rest and fluids; See a doctor in the case of severe flu', 'class': 'Influenza', 'danger level': '1'}, {'synonyms': 'Herpes', 'treatments': 'See a doctor immediately;Take antiviral drugs', 'class': 'Hepatitis B', 'danger level': '6'}, {'synonyms': '', 'treatments': 'See a doctor immediately;Take antiviral drugs for chronic HBV;No medication is availiable for acute infection', 'class': 'HBV;Liver infection', 'danger level': '5'}, {'synonyms': 'H5N1', 'treatments': 'Seek help from a professional healthcare provider immediately', 'class': 'Avian Influenza', 'danger level': '9'}, {'synonyms': 'H1N1', 'treatments': 'Recommended medicines for swine influenza are oseltamivir, peramivir, and zanamivir', 'class': 'Swine Influenza', 'danger level': '8'}, {'synonyms': '', 'treatments': 'Compress;corticosteroid cream;calcineurin inhibitors;See a doctor for further assistance', 'class': 'Dermatitis', 'danger level': '1'}, {'synonyms': '', 'treatments': 'Please see a healthcare professional;There are no specific treatments for West Nile Virus in humans', 'class': 'West Nile Virus', 'danger level': '8'}, {'synonyms': '', 'treatments': 'Get plenty of rest;drink fluid;take medicine such as acetaminophen;Consult with a professional doctor', 'class': 'Zika Virus', 'danger level': '4'}, {'synonyms': 'Varicella Zoster Virus', 'treatments': 'Drink plenty of fluid;Take Tylenol;Consult with a doctor', 'class': 'Chickenpox', 'danger level': '2'}, {'synonyms': '', 'treatments': 'Cholinesterase inhibitors;Memantine(Namenda);Please consult with a professional doctor', 'class': 'Alzheimer', 'danger level': '4'}, {'synonyms': '', 'treatments': 'You are pregnant! Remember to take your prenatal vitamin;quit smoking;stop drinking alcohol;cut down on caffeine; avoid hazardous foods;eat well and sleep well!', 'class': 'Pregrancy', 'danger level': '2'}, {'synonyms': '', 'treatments': 'See a healthcare professional immediately', 'class': 'Stroke', 'danger level': '9'}, {'synonyms': '', 'treatments': 'Seek help from a therapist, physician, and nutritionist', 'class': 'Eating Disorders including Anorexia & Bulimia Nervosa', 'danger level': '3'}, {'synonyms': '', 'treatments': 'quit smoking;have a healthy diet;exercise regularly;consult with a doctor', 'class': 'Coronary Heart Disease', 'danger level': '7'}, {'synonyms': '', 'treatments': 'Losing weight;avoiding alcohol and sleeping pills;changing sleeping position to improve breathing;stop smoking;avoid sleeping on your back', 'class': 'Sleep Apnea', 'danger level': '5'}, {'synonyms': '', 'treatments': \"If you have persistent changes in your bowel habits or have the following conditions, see a doctor: Abdominal pain;blood in your stool;ongoing bouts of diarrhea that don't respond to OTC medication;unexplained fever lasting over two days;unexplained weight loss\", 'class': \"Crohn's Disease\", 'danger level': '4'}, {'synonyms': '', 'treatments': 'You may have breast cancer, please consult with a doctor and conduct further diagnostics at your local hospital', 'class': 'Breast Cancer', 'danger level': '10'}, {'synonyms': '', 'treatments': 'You may have prostate cancer, please consult with a doctor and conduct further diagnostics at your local hospital', 'class': 'Prostate Cancer', 'danger level': '10'}]\n"
     ]
    }
   ],
   "source": [
    "# restore all of our data structures\n",
    "import pickle\n",
    "data = pickle.load( open( \"training_data\", \"rb\" ) )\n",
    "words = data['words']\n",
    "print(\"words:\",words)\n",
    "classes = data['classes']\n",
    "print(\"classes:\",classes)\n",
    "train_x = data['train_x']\n",
    "train_y = data['train_y']\n",
    "classes_details = data['classes_details']\n",
    "print(\"classes details:\",classes_details)"
   ]
  },
  {
   "cell_type": "code",
   "execution_count": 3,
   "metadata": {},
   "outputs": [],
   "source": [
    "import urllib.request\n",
    "import urllib.response\n",
    "import sys\n",
    "import os, glob\n",
    "import http.client, urllib\n",
    "import json\n",
    "import http.client, urllib.request, urllib.parse, urllib.error, base64\n",
    "\n",
    "# Replace the accessKey string value with your valid access key.\n",
    "accessKey = '82e4612615634c398bfd26e7d6327833'\n",
    "url = 'westcentralus.api.cognitive.microsoft.com'\n",
    "path = '/text/analytics/v2.0/keyPhrases'\n",
    "\n",
    "def extract_keywords(body):\n",
    "    headers = {'Ocp-Apim-Subscription-Key': accessKey}\n",
    "    conn = http.client.HTTPSConnection(url)\n",
    "    body_req = {'documents':[{'language': 'en', 'id': 1, 'text': body}]}\n",
    "    body_json = json.dumps(body_req)\n",
    "    conn.request (\"POST\", path, body_json, headers)\n",
    "    response = conn.getresponse ()\n",
    "    string = response.read().decode('utf-8')\n",
    "    json_obj = json.loads(string)\n",
    "    print(\"json_obj: \", json_obj)\n",
    "    keyphrases_list = ((json_obj['documents'])[0])['keyPhrases']\n",
    "    print(\"keyphrases_list: \", keyphrases_list)\n",
    "    return keyphrases_list"
   ]
  },
  {
   "cell_type": "code",
   "execution_count": 4,
   "metadata": {},
   "outputs": [
    {
     "name": "stdout",
     "output_type": "stream",
     "text": [
      "WARNING:tensorflow:From c:\\users\\steven\\appdata\\local\\programs\\python\\python35\\lib\\site-packages\\tflearn\\objectives.py:66: calling reduce_sum (from tensorflow.python.ops.math_ops) with keep_dims is deprecated and will be removed in a future version.\n",
      "Instructions for updating:\n",
      "keep_dims is deprecated, use keepdims instead\n"
     ]
    }
   ],
   "source": [
    "# reset underlying graph data\n",
    "tf.reset_default_graph()\n",
    "# Build neural network\n",
    "net = tflearn.input_data(shape=[None, len(train_x[0])])\n",
    "net = tflearn.fully_connected(net, 8)\n",
    "net = tflearn.fully_connected(net, 8)\n",
    "net = tflearn.fully_connected(net, len(train_y[0]), activation='softmax')\n",
    "net = tflearn.regression(net)\n",
    "\n",
    "# Define model and setup tensorboard\n",
    "model = tflearn.DNN(net, tensorboard_dir='tflearn_logs')"
   ]
  },
  {
   "cell_type": "code",
   "execution_count": 5,
   "metadata": {},
   "outputs": [],
   "source": [
    "## a table structure to hold the different punctuation used\n",
    "tbl = dict.fromkeys(i for i in range(sys.maxunicode)\n",
    "                    if unicodedata.category(chr(i)).startswith('P'))\n",
    "\n",
    "## method to remove punctuations from sentences.\n",
    "def remove_punctuation(text):\n",
    "     return text.translate(tbl)\n",
    "\n",
    "def clean_up_sentence(sentence):\n",
    "    #strip punctuations, numbers, and words containing numbers\n",
    "    no_punct = remove_punctuation(sentence)\n",
    "    no_nums1 = ' '.join(s for s in no_punct.split() if not any(c.isdigit() for c in s))\n",
    "    no_nums2 = re.sub(r'\\d+', '', no_nums1)\n",
    "    keywords = extract_keywords(no_nums2)\n",
    "    keyword_str = ' '.join(s for s in keywords)\n",
    "    # tokenize the pattern\n",
    "    sentence_words = nltk.word_tokenize(keyword_str)\n",
    "    # stem each word\n",
    "    sentence_words = [stemmer.stem(word.lower()) for word in sentence_words]\n",
    "    print(\"sentence after stemming: \", sentence_words)\n",
    "    return sentence_words\n",
    "\n",
    "# return bag of words array: 0 or 1 for each word in the bag that exists in the sentence\n",
    "def bow(sentence, words, show_details=False):\n",
    "    # tokenize the pattern\n",
    "    sentence_words = clean_up_sentence(sentence)\n",
    "    # bag of words\n",
    "    bag = [0]*len(words)  \n",
    "    for s in sentence_words:\n",
    "        for i,w in enumerate(words):\n",
    "            if s in w.strip().split(): \n",
    "                bag[i] = 1\n",
    "                if show_details:\n",
    "                    print (\"found in bag: %s\" % w)\n",
    "\n",
    "    return(np.array(bag))"
   ]
  },
  {
   "cell_type": "code",
   "execution_count": 6,
   "metadata": {},
   "outputs": [
    {
     "name": "stdout",
     "output_type": "stream",
     "text": [
      "json_obj:  {'documents': [{'id': '1', 'keyPhrases': ['stuffy nose', 'throat', 'days', 'sneezing', 'severe cough']}], 'errors': []}\n",
      "keyphrases_list:  ['stuffy nose', 'throat', 'days', 'sneezing', 'severe cough']\n",
      "sentence after stemming:  ['stuffy', 'nos', 'throat', 'day', 'sneez', 'sev', 'cough']\n",
      "[0 0 0 0 0 0 0 0 0 0 0 0 0 0 0 0 0 0 0 0 0 0 0 0 0 0 0 0 0 0 0 0 0 0 0 0 0\n",
      " 0 1 0 0 0 0 0 0 0 0 0 0 0 0 0 0 0 0 0 0 0 0 0 0 0 0 0 0 0 0 0 0 0 0 1 1 0\n",
      " 0 0 0 0 0 0 0 0 0 0 0 0 0 0 0 0 0 0 0 0 0 0 0 0 0 0 0 0 0 0 0 0 0 0 0 0 0\n",
      " 0 0 0 0 0 0 0 0 0 0 0 0 0 0 0 0 0 0 0 0 0 0 0 0 0 0 0 0 0 0 0 0 0 0 0 0 0\n",
      " 0 0 0 0 0 0 0 1 0 0 0 0 0 0 0 0 0 0 0 0 0 0 1 0 0 0 0 0 0 0 0 0 0 0 0 0 0\n",
      " 0 0 0 0 0 0 0 0 0 0 0 0 0 0 0 0 0 0 0 0 0 0 0 0 0 0 0 0 0 0 0 0 0 0 0 0 0\n",
      " 0 0 0 0 0 0 0 0 0 0 0 1 0 0 0 1 0 0 0 0 0 0 0 0 0 0 0 0 0 0 0 0 0 0 0 0 0\n",
      " 0 0 0 1 0 0 0 0 0 0 0 0 0 0 0 0 0 1 0 0 0 0 0 1 0 0 0 0 0]\n",
      "['Acute Headache ', 'Allergies', 'Alzheimer', 'Avian Influenza', 'Breast Cancer', 'Chickenpox', 'Chlamydia', 'Chronic Headache ', 'Common Cold', 'Conjunctivitis', 'Coronary Heart Disease', \"Crohn's Disease\", 'Dermatitis', 'E Coli Infection', 'Eating Disorders including Anorexia & Bulimia Nervosa', 'HBV;Liver infection', 'Hepatitis B', 'Influenza', 'Intestinal Gas', 'Irritable Bowel Syndrome (IBS)', 'Nausea and Vomiting', 'Pregrancy', 'Prostate Cancer', 'Sleep Apnea', 'Stroke', 'Swine Influenza', 'West Nile Virus', 'Zika Virus']\n"
     ]
    }
   ],
   "source": [
    "p = bow(\"I have recently had a very runny and stuffy nose. The last few days, my throat has also been very sore and I have also developed a severe cough with lots of sneezing\", words)\n",
    "print (p)\n",
    "print (classes)"
   ]
  },
  {
   "cell_type": "code",
   "execution_count": 7,
   "metadata": {},
   "outputs": [
    {
     "name": "stdout",
     "output_type": "stream",
     "text": [
      "INFO:tensorflow:Restoring parameters from C:\\Users\\Steven\\Documents\\HTN PROJECT 2\\model.tflearn\n"
     ]
    },
    {
     "ename": "InvalidArgumentError",
     "evalue": "Restoring from checkpoint failed. This is most likely due to a mismatch between the current graph and the graph from the checkpoint. Please ensure that you have not altered the graph expected based on the checkpoint. Original error:\n\nAssign requires shapes of both tensors to match. lhs shape= [8,28] rhs shape= [50,28]\n\t [[Node: save_1/Assign_18 = Assign[T=DT_FLOAT, _class=[\"loc:@FullyConnected_2/W\"], use_locking=true, validate_shape=true, _device=\"/job:localhost/replica:0/task:0/device:CPU:0\"](FullyConnected_2/W/Adam_1, save_1/RestoreV2:18)]]\n\nCaused by op 'save_1/Assign_18', defined at:\n  File \"c:\\users\\steven\\appdata\\local\\programs\\python\\python35\\lib\\runpy.py\", line 193, in _run_module_as_main\n    \"__main__\", mod_spec)\n  File \"c:\\users\\steven\\appdata\\local\\programs\\python\\python35\\lib\\runpy.py\", line 85, in _run_code\n    exec(code, run_globals)\n  File \"c:\\users\\steven\\appdata\\local\\programs\\python\\python35\\lib\\site-packages\\ipykernel_launcher.py\", line 16, in <module>\n    app.launch_new_instance()\n  File \"c:\\users\\steven\\appdata\\local\\programs\\python\\python35\\lib\\site-packages\\traitlets\\config\\application.py\", line 658, in launch_instance\n    app.start()\n  File \"c:\\users\\steven\\appdata\\local\\programs\\python\\python35\\lib\\site-packages\\ipykernel\\kernelapp.py\", line 497, in start\n    self.io_loop.start()\n  File \"c:\\users\\steven\\appdata\\local\\programs\\python\\python35\\lib\\site-packages\\tornado\\platform\\asyncio.py\", line 132, in start\n    self.asyncio_loop.run_forever()\n  File \"c:\\users\\steven\\appdata\\local\\programs\\python\\python35\\lib\\asyncio\\base_events.py\", line 421, in run_forever\n    self._run_once()\n  File \"c:\\users\\steven\\appdata\\local\\programs\\python\\python35\\lib\\asyncio\\base_events.py\", line 1425, in _run_once\n    handle._run()\n  File \"c:\\users\\steven\\appdata\\local\\programs\\python\\python35\\lib\\asyncio\\events.py\", line 127, in _run\n    self._callback(*self._args)\n  File \"c:\\users\\steven\\appdata\\local\\programs\\python\\python35\\lib\\site-packages\\tornado\\ioloop.py\", line 758, in _run_callback\n    ret = callback()\n  File \"c:\\users\\steven\\appdata\\local\\programs\\python\\python35\\lib\\site-packages\\tornado\\stack_context.py\", line 300, in null_wrapper\n    return fn(*args, **kwargs)\n  File \"c:\\users\\steven\\appdata\\local\\programs\\python\\python35\\lib\\site-packages\\zmq\\eventloop\\zmqstream.py\", line 536, in <lambda>\n    self.io_loop.add_callback(lambda : self._handle_events(self.socket, 0))\n  File \"c:\\users\\steven\\appdata\\local\\programs\\python\\python35\\lib\\site-packages\\zmq\\eventloop\\zmqstream.py\", line 450, in _handle_events\n    self._handle_recv()\n  File \"c:\\users\\steven\\appdata\\local\\programs\\python\\python35\\lib\\site-packages\\zmq\\eventloop\\zmqstream.py\", line 480, in _handle_recv\n    self._run_callback(callback, msg)\n  File \"c:\\users\\steven\\appdata\\local\\programs\\python\\python35\\lib\\site-packages\\zmq\\eventloop\\zmqstream.py\", line 432, in _run_callback\n    callback(*args, **kwargs)\n  File \"c:\\users\\steven\\appdata\\local\\programs\\python\\python35\\lib\\site-packages\\tornado\\stack_context.py\", line 300, in null_wrapper\n    return fn(*args, **kwargs)\n  File \"c:\\users\\steven\\appdata\\local\\programs\\python\\python35\\lib\\site-packages\\ipykernel\\kernelbase.py\", line 283, in dispatcher\n    return self.dispatch_shell(stream, msg)\n  File \"c:\\users\\steven\\appdata\\local\\programs\\python\\python35\\lib\\site-packages\\ipykernel\\kernelbase.py\", line 233, in dispatch_shell\n    handler(stream, idents, msg)\n  File \"c:\\users\\steven\\appdata\\local\\programs\\python\\python35\\lib\\site-packages\\ipykernel\\kernelbase.py\", line 399, in execute_request\n    user_expressions, allow_stdin)\n  File \"c:\\users\\steven\\appdata\\local\\programs\\python\\python35\\lib\\site-packages\\ipykernel\\ipkernel.py\", line 208, in do_execute\n    res = shell.run_cell(code, store_history=store_history, silent=silent)\n  File \"c:\\users\\steven\\appdata\\local\\programs\\python\\python35\\lib\\site-packages\\ipykernel\\zmqshell.py\", line 537, in run_cell\n    return super(ZMQInteractiveShell, self).run_cell(*args, **kwargs)\n  File \"c:\\users\\steven\\appdata\\local\\programs\\python\\python35\\lib\\site-packages\\IPython\\core\\interactiveshell.py\", line 2662, in run_cell\n    raw_cell, store_history, silent, shell_futures)\n  File \"c:\\users\\steven\\appdata\\local\\programs\\python\\python35\\lib\\site-packages\\IPython\\core\\interactiveshell.py\", line 2785, in _run_cell\n    interactivity=interactivity, compiler=compiler, result=result)\n  File \"c:\\users\\steven\\appdata\\local\\programs\\python\\python35\\lib\\site-packages\\IPython\\core\\interactiveshell.py\", line 2901, in run_ast_nodes\n    if self.run_code(code, result):\n  File \"c:\\users\\steven\\appdata\\local\\programs\\python\\python35\\lib\\site-packages\\IPython\\core\\interactiveshell.py\", line 2961, in run_code\n    exec(code_obj, self.user_global_ns, self.user_ns)\n  File \"<ipython-input-4-b0e0ffd468a2>\", line 11, in <module>\n    model = tflearn.DNN(net, tensorboard_dir='tflearn_logs')\n  File \"c:\\users\\steven\\appdata\\local\\programs\\python\\python35\\lib\\site-packages\\tflearn\\models\\dnn.py\", line 65, in __init__\n    best_val_accuracy=best_val_accuracy)\n  File \"c:\\users\\steven\\appdata\\local\\programs\\python\\python35\\lib\\site-packages\\tflearn\\helpers\\trainer.py\", line 147, in __init__\n    allow_empty=True)\n  File \"c:\\users\\steven\\appdata\\local\\programs\\python\\python35\\lib\\site-packages\\tensorflow\\python\\training\\saver.py\", line 1281, in __init__\n    self.build()\n  File \"c:\\users\\steven\\appdata\\local\\programs\\python\\python35\\lib\\site-packages\\tensorflow\\python\\training\\saver.py\", line 1293, in build\n    self._build(self._filename, build_save=True, build_restore=True)\n  File \"c:\\users\\steven\\appdata\\local\\programs\\python\\python35\\lib\\site-packages\\tensorflow\\python\\training\\saver.py\", line 1330, in _build\n    build_save=build_save, build_restore=build_restore)\n  File \"c:\\users\\steven\\appdata\\local\\programs\\python\\python35\\lib\\site-packages\\tensorflow\\python\\training\\saver.py\", line 778, in _build_internal\n    restore_sequentially, reshape)\n  File \"c:\\users\\steven\\appdata\\local\\programs\\python\\python35\\lib\\site-packages\\tensorflow\\python\\training\\saver.py\", line 419, in _AddRestoreOps\n    assign_ops.append(saveable.restore(saveable_tensors, shapes))\n  File \"c:\\users\\steven\\appdata\\local\\programs\\python\\python35\\lib\\site-packages\\tensorflow\\python\\training\\saver.py\", line 112, in restore\n    self.op.get_shape().is_fully_defined())\n  File \"c:\\users\\steven\\appdata\\local\\programs\\python\\python35\\lib\\site-packages\\tensorflow\\python\\ops\\state_ops.py\", line 216, in assign\n    validate_shape=validate_shape)\n  File \"c:\\users\\steven\\appdata\\local\\programs\\python\\python35\\lib\\site-packages\\tensorflow\\python\\ops\\gen_state_ops.py\", line 63, in assign\n    use_locking=use_locking, name=name)\n  File \"c:\\users\\steven\\appdata\\local\\programs\\python\\python35\\lib\\site-packages\\tensorflow\\python\\framework\\op_def_library.py\", line 787, in _apply_op_helper\n    op_def=op_def)\n  File \"c:\\users\\steven\\appdata\\local\\programs\\python\\python35\\lib\\site-packages\\tensorflow\\python\\util\\deprecation.py\", line 454, in new_func\n    return func(*args, **kwargs)\n  File \"c:\\users\\steven\\appdata\\local\\programs\\python\\python35\\lib\\site-packages\\tensorflow\\python\\framework\\ops.py\", line 3155, in create_op\n    op_def=op_def)\n  File \"c:\\users\\steven\\appdata\\local\\programs\\python\\python35\\lib\\site-packages\\tensorflow\\python\\framework\\ops.py\", line 1717, in __init__\n    self._traceback = tf_stack.extract_stack()\n\nInvalidArgumentError (see above for traceback): Restoring from checkpoint failed. This is most likely due to a mismatch between the current graph and the graph from the checkpoint. Please ensure that you have not altered the graph expected based on the checkpoint. Original error:\n\nAssign requires shapes of both tensors to match. lhs shape= [8,28] rhs shape= [50,28]\n\t [[Node: save_1/Assign_18 = Assign[T=DT_FLOAT, _class=[\"loc:@FullyConnected_2/W\"], use_locking=true, validate_shape=true, _device=\"/job:localhost/replica:0/task:0/device:CPU:0\"](FullyConnected_2/W/Adam_1, save_1/RestoreV2:18)]]\n",
     "output_type": "error",
     "traceback": [
      "\u001b[1;31m---------------------------------------------------------------------------\u001b[0m",
      "\u001b[1;31mInvalidArgumentError\u001b[0m                      Traceback (most recent call last)",
      "\u001b[1;32mc:\\users\\steven\\appdata\\local\\programs\\python\\python35\\lib\\site-packages\\tensorflow\\python\\client\\session.py\u001b[0m in \u001b[0;36m_do_call\u001b[1;34m(self, fn, *args)\u001b[0m\n\u001b[0;32m   1277\u001b[0m     \u001b[1;32mtry\u001b[0m\u001b[1;33m:\u001b[0m\u001b[1;33m\u001b[0m\u001b[0m\n\u001b[1;32m-> 1278\u001b[1;33m       \u001b[1;32mreturn\u001b[0m \u001b[0mfn\u001b[0m\u001b[1;33m(\u001b[0m\u001b[1;33m*\u001b[0m\u001b[0margs\u001b[0m\u001b[1;33m)\u001b[0m\u001b[1;33m\u001b[0m\u001b[0m\n\u001b[0m\u001b[0;32m   1279\u001b[0m     \u001b[1;32mexcept\u001b[0m \u001b[0merrors\u001b[0m\u001b[1;33m.\u001b[0m\u001b[0mOpError\u001b[0m \u001b[1;32mas\u001b[0m \u001b[0me\u001b[0m\u001b[1;33m:\u001b[0m\u001b[1;33m\u001b[0m\u001b[0m\n",
      "\u001b[1;32mc:\\users\\steven\\appdata\\local\\programs\\python\\python35\\lib\\site-packages\\tensorflow\\python\\client\\session.py\u001b[0m in \u001b[0;36m_run_fn\u001b[1;34m(feed_dict, fetch_list, target_list, options, run_metadata)\u001b[0m\n\u001b[0;32m   1262\u001b[0m       return self._call_tf_sessionrun(\n\u001b[1;32m-> 1263\u001b[1;33m           options, feed_dict, fetch_list, target_list, run_metadata)\n\u001b[0m\u001b[0;32m   1264\u001b[0m \u001b[1;33m\u001b[0m\u001b[0m\n",
      "\u001b[1;32mc:\\users\\steven\\appdata\\local\\programs\\python\\python35\\lib\\site-packages\\tensorflow\\python\\client\\session.py\u001b[0m in \u001b[0;36m_call_tf_sessionrun\u001b[1;34m(self, options, feed_dict, fetch_list, target_list, run_metadata)\u001b[0m\n\u001b[0;32m   1349\u001b[0m         \u001b[0mself\u001b[0m\u001b[1;33m.\u001b[0m\u001b[0m_session\u001b[0m\u001b[1;33m,\u001b[0m \u001b[0moptions\u001b[0m\u001b[1;33m,\u001b[0m \u001b[0mfeed_dict\u001b[0m\u001b[1;33m,\u001b[0m \u001b[0mfetch_list\u001b[0m\u001b[1;33m,\u001b[0m \u001b[0mtarget_list\u001b[0m\u001b[1;33m,\u001b[0m\u001b[1;33m\u001b[0m\u001b[0m\n\u001b[1;32m-> 1350\u001b[1;33m         run_metadata)\n\u001b[0m\u001b[0;32m   1351\u001b[0m \u001b[1;33m\u001b[0m\u001b[0m\n",
      "\u001b[1;31mInvalidArgumentError\u001b[0m: Assign requires shapes of both tensors to match. lhs shape= [8,28] rhs shape= [50,28]\n\t [[Node: save_1/Assign_18 = Assign[T=DT_FLOAT, _class=[\"loc:@FullyConnected_2/W\"], use_locking=true, validate_shape=true, _device=\"/job:localhost/replica:0/task:0/device:CPU:0\"](FullyConnected_2/W/Adam_1, save_1/RestoreV2:18)]]",
      "\nDuring handling of the above exception, another exception occurred:\n",
      "\u001b[1;31mInvalidArgumentError\u001b[0m                      Traceback (most recent call last)",
      "\u001b[1;32mc:\\users\\steven\\appdata\\local\\programs\\python\\python35\\lib\\site-packages\\tensorflow\\python\\training\\saver.py\u001b[0m in \u001b[0;36mrestore\u001b[1;34m(self, sess, save_path)\u001b[0m\n\u001b[0;32m   1724\u001b[0m         sess.run(self.saver_def.restore_op_name,\n\u001b[1;32m-> 1725\u001b[1;33m                  {self.saver_def.filename_tensor_name: save_path})\n\u001b[0m\u001b[0;32m   1726\u001b[0m     \u001b[1;32mexcept\u001b[0m \u001b[0merrors\u001b[0m\u001b[1;33m.\u001b[0m\u001b[0mNotFoundError\u001b[0m \u001b[1;32mas\u001b[0m \u001b[0merr\u001b[0m\u001b[1;33m:\u001b[0m\u001b[1;33m\u001b[0m\u001b[0m\n",
      "\u001b[1;32mc:\\users\\steven\\appdata\\local\\programs\\python\\python35\\lib\\site-packages\\tensorflow\\python\\client\\session.py\u001b[0m in \u001b[0;36mrun\u001b[1;34m(self, fetches, feed_dict, options, run_metadata)\u001b[0m\n\u001b[0;32m    876\u001b[0m       result = self._run(None, fetches, feed_dict, options_ptr,\n\u001b[1;32m--> 877\u001b[1;33m                          run_metadata_ptr)\n\u001b[0m\u001b[0;32m    878\u001b[0m       \u001b[1;32mif\u001b[0m \u001b[0mrun_metadata\u001b[0m\u001b[1;33m:\u001b[0m\u001b[1;33m\u001b[0m\u001b[0m\n",
      "\u001b[1;32mc:\\users\\steven\\appdata\\local\\programs\\python\\python35\\lib\\site-packages\\tensorflow\\python\\client\\session.py\u001b[0m in \u001b[0;36m_run\u001b[1;34m(self, handle, fetches, feed_dict, options, run_metadata)\u001b[0m\n\u001b[0;32m   1099\u001b[0m       results = self._do_run(handle, final_targets, final_fetches,\n\u001b[1;32m-> 1100\u001b[1;33m                              feed_dict_tensor, options, run_metadata)\n\u001b[0m\u001b[0;32m   1101\u001b[0m     \u001b[1;32melse\u001b[0m\u001b[1;33m:\u001b[0m\u001b[1;33m\u001b[0m\u001b[0m\n",
      "\u001b[1;32mc:\\users\\steven\\appdata\\local\\programs\\python\\python35\\lib\\site-packages\\tensorflow\\python\\client\\session.py\u001b[0m in \u001b[0;36m_do_run\u001b[1;34m(self, handle, target_list, fetch_list, feed_dict, options, run_metadata)\u001b[0m\n\u001b[0;32m   1271\u001b[0m       return self._do_call(_run_fn, feeds, fetches, targets, options,\n\u001b[1;32m-> 1272\u001b[1;33m                            run_metadata)\n\u001b[0m\u001b[0;32m   1273\u001b[0m     \u001b[1;32melse\u001b[0m\u001b[1;33m:\u001b[0m\u001b[1;33m\u001b[0m\u001b[0m\n",
      "\u001b[1;32mc:\\users\\steven\\appdata\\local\\programs\\python\\python35\\lib\\site-packages\\tensorflow\\python\\client\\session.py\u001b[0m in \u001b[0;36m_do_call\u001b[1;34m(self, fn, *args)\u001b[0m\n\u001b[0;32m   1290\u001b[0m           \u001b[1;32mpass\u001b[0m\u001b[1;33m\u001b[0m\u001b[0m\n\u001b[1;32m-> 1291\u001b[1;33m       \u001b[1;32mraise\u001b[0m \u001b[0mtype\u001b[0m\u001b[1;33m(\u001b[0m\u001b[0me\u001b[0m\u001b[1;33m)\u001b[0m\u001b[1;33m(\u001b[0m\u001b[0mnode_def\u001b[0m\u001b[1;33m,\u001b[0m \u001b[0mop\u001b[0m\u001b[1;33m,\u001b[0m \u001b[0mmessage\u001b[0m\u001b[1;33m)\u001b[0m\u001b[1;33m\u001b[0m\u001b[0m\n\u001b[0m\u001b[0;32m   1292\u001b[0m \u001b[1;33m\u001b[0m\u001b[0m\n",
      "\u001b[1;31mInvalidArgumentError\u001b[0m: Assign requires shapes of both tensors to match. lhs shape= [8,28] rhs shape= [50,28]\n\t [[Node: save_1/Assign_18 = Assign[T=DT_FLOAT, _class=[\"loc:@FullyConnected_2/W\"], use_locking=true, validate_shape=true, _device=\"/job:localhost/replica:0/task:0/device:CPU:0\"](FullyConnected_2/W/Adam_1, save_1/RestoreV2:18)]]\n\nCaused by op 'save_1/Assign_18', defined at:\n  File \"c:\\users\\steven\\appdata\\local\\programs\\python\\python35\\lib\\runpy.py\", line 193, in _run_module_as_main\n    \"__main__\", mod_spec)\n  File \"c:\\users\\steven\\appdata\\local\\programs\\python\\python35\\lib\\runpy.py\", line 85, in _run_code\n    exec(code, run_globals)\n  File \"c:\\users\\steven\\appdata\\local\\programs\\python\\python35\\lib\\site-packages\\ipykernel_launcher.py\", line 16, in <module>\n    app.launch_new_instance()\n  File \"c:\\users\\steven\\appdata\\local\\programs\\python\\python35\\lib\\site-packages\\traitlets\\config\\application.py\", line 658, in launch_instance\n    app.start()\n  File \"c:\\users\\steven\\appdata\\local\\programs\\python\\python35\\lib\\site-packages\\ipykernel\\kernelapp.py\", line 497, in start\n    self.io_loop.start()\n  File \"c:\\users\\steven\\appdata\\local\\programs\\python\\python35\\lib\\site-packages\\tornado\\platform\\asyncio.py\", line 132, in start\n    self.asyncio_loop.run_forever()\n  File \"c:\\users\\steven\\appdata\\local\\programs\\python\\python35\\lib\\asyncio\\base_events.py\", line 421, in run_forever\n    self._run_once()\n  File \"c:\\users\\steven\\appdata\\local\\programs\\python\\python35\\lib\\asyncio\\base_events.py\", line 1425, in _run_once\n    handle._run()\n  File \"c:\\users\\steven\\appdata\\local\\programs\\python\\python35\\lib\\asyncio\\events.py\", line 127, in _run\n    self._callback(*self._args)\n  File \"c:\\users\\steven\\appdata\\local\\programs\\python\\python35\\lib\\site-packages\\tornado\\ioloop.py\", line 758, in _run_callback\n    ret = callback()\n  File \"c:\\users\\steven\\appdata\\local\\programs\\python\\python35\\lib\\site-packages\\tornado\\stack_context.py\", line 300, in null_wrapper\n    return fn(*args, **kwargs)\n  File \"c:\\users\\steven\\appdata\\local\\programs\\python\\python35\\lib\\site-packages\\zmq\\eventloop\\zmqstream.py\", line 536, in <lambda>\n    self.io_loop.add_callback(lambda : self._handle_events(self.socket, 0))\n  File \"c:\\users\\steven\\appdata\\local\\programs\\python\\python35\\lib\\site-packages\\zmq\\eventloop\\zmqstream.py\", line 450, in _handle_events\n    self._handle_recv()\n  File \"c:\\users\\steven\\appdata\\local\\programs\\python\\python35\\lib\\site-packages\\zmq\\eventloop\\zmqstream.py\", line 480, in _handle_recv\n    self._run_callback(callback, msg)\n  File \"c:\\users\\steven\\appdata\\local\\programs\\python\\python35\\lib\\site-packages\\zmq\\eventloop\\zmqstream.py\", line 432, in _run_callback\n    callback(*args, **kwargs)\n  File \"c:\\users\\steven\\appdata\\local\\programs\\python\\python35\\lib\\site-packages\\tornado\\stack_context.py\", line 300, in null_wrapper\n    return fn(*args, **kwargs)\n  File \"c:\\users\\steven\\appdata\\local\\programs\\python\\python35\\lib\\site-packages\\ipykernel\\kernelbase.py\", line 283, in dispatcher\n    return self.dispatch_shell(stream, msg)\n  File \"c:\\users\\steven\\appdata\\local\\programs\\python\\python35\\lib\\site-packages\\ipykernel\\kernelbase.py\", line 233, in dispatch_shell\n    handler(stream, idents, msg)\n  File \"c:\\users\\steven\\appdata\\local\\programs\\python\\python35\\lib\\site-packages\\ipykernel\\kernelbase.py\", line 399, in execute_request\n    user_expressions, allow_stdin)\n  File \"c:\\users\\steven\\appdata\\local\\programs\\python\\python35\\lib\\site-packages\\ipykernel\\ipkernel.py\", line 208, in do_execute\n    res = shell.run_cell(code, store_history=store_history, silent=silent)\n  File \"c:\\users\\steven\\appdata\\local\\programs\\python\\python35\\lib\\site-packages\\ipykernel\\zmqshell.py\", line 537, in run_cell\n    return super(ZMQInteractiveShell, self).run_cell(*args, **kwargs)\n  File \"c:\\users\\steven\\appdata\\local\\programs\\python\\python35\\lib\\site-packages\\IPython\\core\\interactiveshell.py\", line 2662, in run_cell\n    raw_cell, store_history, silent, shell_futures)\n  File \"c:\\users\\steven\\appdata\\local\\programs\\python\\python35\\lib\\site-packages\\IPython\\core\\interactiveshell.py\", line 2785, in _run_cell\n    interactivity=interactivity, compiler=compiler, result=result)\n  File \"c:\\users\\steven\\appdata\\local\\programs\\python\\python35\\lib\\site-packages\\IPython\\core\\interactiveshell.py\", line 2901, in run_ast_nodes\n    if self.run_code(code, result):\n  File \"c:\\users\\steven\\appdata\\local\\programs\\python\\python35\\lib\\site-packages\\IPython\\core\\interactiveshell.py\", line 2961, in run_code\n    exec(code_obj, self.user_global_ns, self.user_ns)\n  File \"<ipython-input-4-b0e0ffd468a2>\", line 11, in <module>\n    model = tflearn.DNN(net, tensorboard_dir='tflearn_logs')\n  File \"c:\\users\\steven\\appdata\\local\\programs\\python\\python35\\lib\\site-packages\\tflearn\\models\\dnn.py\", line 65, in __init__\n    best_val_accuracy=best_val_accuracy)\n  File \"c:\\users\\steven\\appdata\\local\\programs\\python\\python35\\lib\\site-packages\\tflearn\\helpers\\trainer.py\", line 147, in __init__\n    allow_empty=True)\n  File \"c:\\users\\steven\\appdata\\local\\programs\\python\\python35\\lib\\site-packages\\tensorflow\\python\\training\\saver.py\", line 1281, in __init__\n    self.build()\n  File \"c:\\users\\steven\\appdata\\local\\programs\\python\\python35\\lib\\site-packages\\tensorflow\\python\\training\\saver.py\", line 1293, in build\n    self._build(self._filename, build_save=True, build_restore=True)\n  File \"c:\\users\\steven\\appdata\\local\\programs\\python\\python35\\lib\\site-packages\\tensorflow\\python\\training\\saver.py\", line 1330, in _build\n    build_save=build_save, build_restore=build_restore)\n  File \"c:\\users\\steven\\appdata\\local\\programs\\python\\python35\\lib\\site-packages\\tensorflow\\python\\training\\saver.py\", line 778, in _build_internal\n    restore_sequentially, reshape)\n  File \"c:\\users\\steven\\appdata\\local\\programs\\python\\python35\\lib\\site-packages\\tensorflow\\python\\training\\saver.py\", line 419, in _AddRestoreOps\n    assign_ops.append(saveable.restore(saveable_tensors, shapes))\n  File \"c:\\users\\steven\\appdata\\local\\programs\\python\\python35\\lib\\site-packages\\tensorflow\\python\\training\\saver.py\", line 112, in restore\n    self.op.get_shape().is_fully_defined())\n  File \"c:\\users\\steven\\appdata\\local\\programs\\python\\python35\\lib\\site-packages\\tensorflow\\python\\ops\\state_ops.py\", line 216, in assign\n    validate_shape=validate_shape)\n  File \"c:\\users\\steven\\appdata\\local\\programs\\python\\python35\\lib\\site-packages\\tensorflow\\python\\ops\\gen_state_ops.py\", line 63, in assign\n    use_locking=use_locking, name=name)\n  File \"c:\\users\\steven\\appdata\\local\\programs\\python\\python35\\lib\\site-packages\\tensorflow\\python\\framework\\op_def_library.py\", line 787, in _apply_op_helper\n    op_def=op_def)\n  File \"c:\\users\\steven\\appdata\\local\\programs\\python\\python35\\lib\\site-packages\\tensorflow\\python\\util\\deprecation.py\", line 454, in new_func\n    return func(*args, **kwargs)\n  File \"c:\\users\\steven\\appdata\\local\\programs\\python\\python35\\lib\\site-packages\\tensorflow\\python\\framework\\ops.py\", line 3155, in create_op\n    op_def=op_def)\n  File \"c:\\users\\steven\\appdata\\local\\programs\\python\\python35\\lib\\site-packages\\tensorflow\\python\\framework\\ops.py\", line 1717, in __init__\n    self._traceback = tf_stack.extract_stack()\n\nInvalidArgumentError (see above for traceback): Assign requires shapes of both tensors to match. lhs shape= [8,28] rhs shape= [50,28]\n\t [[Node: save_1/Assign_18 = Assign[T=DT_FLOAT, _class=[\"loc:@FullyConnected_2/W\"], use_locking=true, validate_shape=true, _device=\"/job:localhost/replica:0/task:0/device:CPU:0\"](FullyConnected_2/W/Adam_1, save_1/RestoreV2:18)]]\n",
      "\nDuring handling of the above exception, another exception occurred:\n",
      "\u001b[1;31mInvalidArgumentError\u001b[0m                      Traceback (most recent call last)",
      "\u001b[1;32m<ipython-input-7-27684fe4c129>\u001b[0m in \u001b[0;36m<module>\u001b[1;34m()\u001b[0m\n\u001b[0;32m      1\u001b[0m \u001b[1;31m# load our saved model\u001b[0m\u001b[1;33m\u001b[0m\u001b[1;33m\u001b[0m\u001b[0m\n\u001b[1;32m----> 2\u001b[1;33m \u001b[0mmodel\u001b[0m\u001b[1;33m.\u001b[0m\u001b[0mload\u001b[0m\u001b[1;33m(\u001b[0m\u001b[1;34m'./model.tflearn'\u001b[0m\u001b[1;33m)\u001b[0m\u001b[1;33m\u001b[0m\u001b[0m\n\u001b[0m",
      "\u001b[1;32mc:\\users\\steven\\appdata\\local\\programs\\python\\python35\\lib\\site-packages\\tflearn\\models\\dnn.py\u001b[0m in \u001b[0;36mload\u001b[1;34m(self, model_file, weights_only, **optargs)\u001b[0m\n\u001b[0;32m    306\u001b[0m                      \u001b[0mcreated\u001b[0m \u001b[1;32mfor\u001b[0m \u001b[0mthe\u001b[0m \u001b[0mrestored\u001b[0m \u001b[0mvariables\u001b[0m\u001b[1;33m.\u001b[0m\u001b[1;33m\u001b[0m\u001b[0m\n\u001b[0;32m    307\u001b[0m         \"\"\"\n\u001b[1;32m--> 308\u001b[1;33m         \u001b[0mself\u001b[0m\u001b[1;33m.\u001b[0m\u001b[0mtrainer\u001b[0m\u001b[1;33m.\u001b[0m\u001b[0mrestore\u001b[0m\u001b[1;33m(\u001b[0m\u001b[0mmodel_file\u001b[0m\u001b[1;33m,\u001b[0m \u001b[0mweights_only\u001b[0m\u001b[1;33m,\u001b[0m \u001b[1;33m**\u001b[0m\u001b[0moptargs\u001b[0m\u001b[1;33m)\u001b[0m\u001b[1;33m\u001b[0m\u001b[0m\n\u001b[0m\u001b[0;32m    309\u001b[0m         \u001b[0mself\u001b[0m\u001b[1;33m.\u001b[0m\u001b[0msession\u001b[0m \u001b[1;33m=\u001b[0m \u001b[0mself\u001b[0m\u001b[1;33m.\u001b[0m\u001b[0mtrainer\u001b[0m\u001b[1;33m.\u001b[0m\u001b[0msession\u001b[0m\u001b[1;33m\u001b[0m\u001b[0m\n\u001b[0;32m    310\u001b[0m         self.predictor = Evaluator([self.net],\n",
      "\u001b[1;32mc:\\users\\steven\\appdata\\local\\programs\\python\\python35\\lib\\site-packages\\tflearn\\helpers\\trainer.py\u001b[0m in \u001b[0;36mrestore\u001b[1;34m(self, model_file, trainable_variable_only, variable_name_map, scope_for_restore, create_new_session, verbose)\u001b[0m\n\u001b[0;32m    488\u001b[0m             \u001b[0mrestorer\u001b[0m\u001b[1;33m.\u001b[0m\u001b[0mrestore\u001b[0m\u001b[1;33m(\u001b[0m\u001b[0mself\u001b[0m\u001b[1;33m.\u001b[0m\u001b[0msession\u001b[0m\u001b[1;33m,\u001b[0m \u001b[0mmodel_file\u001b[0m\u001b[1;33m)\u001b[0m\u001b[1;33m\u001b[0m\u001b[0m\n\u001b[0;32m    489\u001b[0m         \u001b[1;32melif\u001b[0m \u001b[1;32mnot\u001b[0m \u001b[0mtrainable_variable_only\u001b[0m\u001b[1;33m:\u001b[0m\u001b[1;33m\u001b[0m\u001b[0m\n\u001b[1;32m--> 490\u001b[1;33m             \u001b[0mself\u001b[0m\u001b[1;33m.\u001b[0m\u001b[0mrestorer\u001b[0m\u001b[1;33m.\u001b[0m\u001b[0mrestore\u001b[0m\u001b[1;33m(\u001b[0m\u001b[0mself\u001b[0m\u001b[1;33m.\u001b[0m\u001b[0msession\u001b[0m\u001b[1;33m,\u001b[0m \u001b[0mmodel_file\u001b[0m\u001b[1;33m)\u001b[0m\u001b[1;33m\u001b[0m\u001b[0m\n\u001b[0m\u001b[0;32m    491\u001b[0m         \u001b[1;32melse\u001b[0m\u001b[1;33m:\u001b[0m\u001b[1;33m\u001b[0m\u001b[0m\n\u001b[0;32m    492\u001b[0m             \u001b[0mself\u001b[0m\u001b[1;33m.\u001b[0m\u001b[0mrestorer_trainvars\u001b[0m\u001b[1;33m.\u001b[0m\u001b[0mrestore\u001b[0m\u001b[1;33m(\u001b[0m\u001b[0mself\u001b[0m\u001b[1;33m.\u001b[0m\u001b[0msession\u001b[0m\u001b[1;33m,\u001b[0m \u001b[0mmodel_file\u001b[0m\u001b[1;33m)\u001b[0m\u001b[1;33m\u001b[0m\u001b[0m\n",
      "\u001b[1;32mc:\\users\\steven\\appdata\\local\\programs\\python\\python35\\lib\\site-packages\\tensorflow\\python\\training\\saver.py\u001b[0m in \u001b[0;36mrestore\u001b[1;34m(self, sess, save_path)\u001b[0m\n\u001b[0;32m   1757\u001b[0m       \u001b[1;31m# We add a more reasonable error message here to help users (b/110263146)\u001b[0m\u001b[1;33m\u001b[0m\u001b[1;33m\u001b[0m\u001b[0m\n\u001b[0;32m   1758\u001b[0m       raise _wrap_restore_error_with_msg(\n\u001b[1;32m-> 1759\u001b[1;33m           err, \"a mismatch between the current graph and the graph\")\n\u001b[0m\u001b[0;32m   1760\u001b[0m \u001b[1;33m\u001b[0m\u001b[0m\n\u001b[0;32m   1761\u001b[0m   def _restore_from_object_based_checkpoint(self, sess, save_path,\n",
      "\u001b[1;31mInvalidArgumentError\u001b[0m: Restoring from checkpoint failed. This is most likely due to a mismatch between the current graph and the graph from the checkpoint. Please ensure that you have not altered the graph expected based on the checkpoint. Original error:\n\nAssign requires shapes of both tensors to match. lhs shape= [8,28] rhs shape= [50,28]\n\t [[Node: save_1/Assign_18 = Assign[T=DT_FLOAT, _class=[\"loc:@FullyConnected_2/W\"], use_locking=true, validate_shape=true, _device=\"/job:localhost/replica:0/task:0/device:CPU:0\"](FullyConnected_2/W/Adam_1, save_1/RestoreV2:18)]]\n\nCaused by op 'save_1/Assign_18', defined at:\n  File \"c:\\users\\steven\\appdata\\local\\programs\\python\\python35\\lib\\runpy.py\", line 193, in _run_module_as_main\n    \"__main__\", mod_spec)\n  File \"c:\\users\\steven\\appdata\\local\\programs\\python\\python35\\lib\\runpy.py\", line 85, in _run_code\n    exec(code, run_globals)\n  File \"c:\\users\\steven\\appdata\\local\\programs\\python\\python35\\lib\\site-packages\\ipykernel_launcher.py\", line 16, in <module>\n    app.launch_new_instance()\n  File \"c:\\users\\steven\\appdata\\local\\programs\\python\\python35\\lib\\site-packages\\traitlets\\config\\application.py\", line 658, in launch_instance\n    app.start()\n  File \"c:\\users\\steven\\appdata\\local\\programs\\python\\python35\\lib\\site-packages\\ipykernel\\kernelapp.py\", line 497, in start\n    self.io_loop.start()\n  File \"c:\\users\\steven\\appdata\\local\\programs\\python\\python35\\lib\\site-packages\\tornado\\platform\\asyncio.py\", line 132, in start\n    self.asyncio_loop.run_forever()\n  File \"c:\\users\\steven\\appdata\\local\\programs\\python\\python35\\lib\\asyncio\\base_events.py\", line 421, in run_forever\n    self._run_once()\n  File \"c:\\users\\steven\\appdata\\local\\programs\\python\\python35\\lib\\asyncio\\base_events.py\", line 1425, in _run_once\n    handle._run()\n  File \"c:\\users\\steven\\appdata\\local\\programs\\python\\python35\\lib\\asyncio\\events.py\", line 127, in _run\n    self._callback(*self._args)\n  File \"c:\\users\\steven\\appdata\\local\\programs\\python\\python35\\lib\\site-packages\\tornado\\ioloop.py\", line 758, in _run_callback\n    ret = callback()\n  File \"c:\\users\\steven\\appdata\\local\\programs\\python\\python35\\lib\\site-packages\\tornado\\stack_context.py\", line 300, in null_wrapper\n    return fn(*args, **kwargs)\n  File \"c:\\users\\steven\\appdata\\local\\programs\\python\\python35\\lib\\site-packages\\zmq\\eventloop\\zmqstream.py\", line 536, in <lambda>\n    self.io_loop.add_callback(lambda : self._handle_events(self.socket, 0))\n  File \"c:\\users\\steven\\appdata\\local\\programs\\python\\python35\\lib\\site-packages\\zmq\\eventloop\\zmqstream.py\", line 450, in _handle_events\n    self._handle_recv()\n  File \"c:\\users\\steven\\appdata\\local\\programs\\python\\python35\\lib\\site-packages\\zmq\\eventloop\\zmqstream.py\", line 480, in _handle_recv\n    self._run_callback(callback, msg)\n  File \"c:\\users\\steven\\appdata\\local\\programs\\python\\python35\\lib\\site-packages\\zmq\\eventloop\\zmqstream.py\", line 432, in _run_callback\n    callback(*args, **kwargs)\n  File \"c:\\users\\steven\\appdata\\local\\programs\\python\\python35\\lib\\site-packages\\tornado\\stack_context.py\", line 300, in null_wrapper\n    return fn(*args, **kwargs)\n  File \"c:\\users\\steven\\appdata\\local\\programs\\python\\python35\\lib\\site-packages\\ipykernel\\kernelbase.py\", line 283, in dispatcher\n    return self.dispatch_shell(stream, msg)\n  File \"c:\\users\\steven\\appdata\\local\\programs\\python\\python35\\lib\\site-packages\\ipykernel\\kernelbase.py\", line 233, in dispatch_shell\n    handler(stream, idents, msg)\n  File \"c:\\users\\steven\\appdata\\local\\programs\\python\\python35\\lib\\site-packages\\ipykernel\\kernelbase.py\", line 399, in execute_request\n    user_expressions, allow_stdin)\n  File \"c:\\users\\steven\\appdata\\local\\programs\\python\\python35\\lib\\site-packages\\ipykernel\\ipkernel.py\", line 208, in do_execute\n    res = shell.run_cell(code, store_history=store_history, silent=silent)\n  File \"c:\\users\\steven\\appdata\\local\\programs\\python\\python35\\lib\\site-packages\\ipykernel\\zmqshell.py\", line 537, in run_cell\n    return super(ZMQInteractiveShell, self).run_cell(*args, **kwargs)\n  File \"c:\\users\\steven\\appdata\\local\\programs\\python\\python35\\lib\\site-packages\\IPython\\core\\interactiveshell.py\", line 2662, in run_cell\n    raw_cell, store_history, silent, shell_futures)\n  File \"c:\\users\\steven\\appdata\\local\\programs\\python\\python35\\lib\\site-packages\\IPython\\core\\interactiveshell.py\", line 2785, in _run_cell\n    interactivity=interactivity, compiler=compiler, result=result)\n  File \"c:\\users\\steven\\appdata\\local\\programs\\python\\python35\\lib\\site-packages\\IPython\\core\\interactiveshell.py\", line 2901, in run_ast_nodes\n    if self.run_code(code, result):\n  File \"c:\\users\\steven\\appdata\\local\\programs\\python\\python35\\lib\\site-packages\\IPython\\core\\interactiveshell.py\", line 2961, in run_code\n    exec(code_obj, self.user_global_ns, self.user_ns)\n  File \"<ipython-input-4-b0e0ffd468a2>\", line 11, in <module>\n    model = tflearn.DNN(net, tensorboard_dir='tflearn_logs')\n  File \"c:\\users\\steven\\appdata\\local\\programs\\python\\python35\\lib\\site-packages\\tflearn\\models\\dnn.py\", line 65, in __init__\n    best_val_accuracy=best_val_accuracy)\n  File \"c:\\users\\steven\\appdata\\local\\programs\\python\\python35\\lib\\site-packages\\tflearn\\helpers\\trainer.py\", line 147, in __init__\n    allow_empty=True)\n  File \"c:\\users\\steven\\appdata\\local\\programs\\python\\python35\\lib\\site-packages\\tensorflow\\python\\training\\saver.py\", line 1281, in __init__\n    self.build()\n  File \"c:\\users\\steven\\appdata\\local\\programs\\python\\python35\\lib\\site-packages\\tensorflow\\python\\training\\saver.py\", line 1293, in build\n    self._build(self._filename, build_save=True, build_restore=True)\n  File \"c:\\users\\steven\\appdata\\local\\programs\\python\\python35\\lib\\site-packages\\tensorflow\\python\\training\\saver.py\", line 1330, in _build\n    build_save=build_save, build_restore=build_restore)\n  File \"c:\\users\\steven\\appdata\\local\\programs\\python\\python35\\lib\\site-packages\\tensorflow\\python\\training\\saver.py\", line 778, in _build_internal\n    restore_sequentially, reshape)\n  File \"c:\\users\\steven\\appdata\\local\\programs\\python\\python35\\lib\\site-packages\\tensorflow\\python\\training\\saver.py\", line 419, in _AddRestoreOps\n    assign_ops.append(saveable.restore(saveable_tensors, shapes))\n  File \"c:\\users\\steven\\appdata\\local\\programs\\python\\python35\\lib\\site-packages\\tensorflow\\python\\training\\saver.py\", line 112, in restore\n    self.op.get_shape().is_fully_defined())\n  File \"c:\\users\\steven\\appdata\\local\\programs\\python\\python35\\lib\\site-packages\\tensorflow\\python\\ops\\state_ops.py\", line 216, in assign\n    validate_shape=validate_shape)\n  File \"c:\\users\\steven\\appdata\\local\\programs\\python\\python35\\lib\\site-packages\\tensorflow\\python\\ops\\gen_state_ops.py\", line 63, in assign\n    use_locking=use_locking, name=name)\n  File \"c:\\users\\steven\\appdata\\local\\programs\\python\\python35\\lib\\site-packages\\tensorflow\\python\\framework\\op_def_library.py\", line 787, in _apply_op_helper\n    op_def=op_def)\n  File \"c:\\users\\steven\\appdata\\local\\programs\\python\\python35\\lib\\site-packages\\tensorflow\\python\\util\\deprecation.py\", line 454, in new_func\n    return func(*args, **kwargs)\n  File \"c:\\users\\steven\\appdata\\local\\programs\\python\\python35\\lib\\site-packages\\tensorflow\\python\\framework\\ops.py\", line 3155, in create_op\n    op_def=op_def)\n  File \"c:\\users\\steven\\appdata\\local\\programs\\python\\python35\\lib\\site-packages\\tensorflow\\python\\framework\\ops.py\", line 1717, in __init__\n    self._traceback = tf_stack.extract_stack()\n\nInvalidArgumentError (see above for traceback): Restoring from checkpoint failed. This is most likely due to a mismatch between the current graph and the graph from the checkpoint. Please ensure that you have not altered the graph expected based on the checkpoint. Original error:\n\nAssign requires shapes of both tensors to match. lhs shape= [8,28] rhs shape= [50,28]\n\t [[Node: save_1/Assign_18 = Assign[T=DT_FLOAT, _class=[\"loc:@FullyConnected_2/W\"], use_locking=true, validate_shape=true, _device=\"/job:localhost/replica:0/task:0/device:CPU:0\"](FullyConnected_2/W/Adam_1, save_1/RestoreV2:18)]]\n"
     ]
    }
   ],
   "source": [
    "# load our saved model\n",
    "model.load('./model.tflearn')"
   ]
  },
  {
   "cell_type": "code",
   "execution_count": null,
   "metadata": {},
   "outputs": [],
   "source": [
    "ERROR_THRESHOLD = 0.01\n",
    "def classify(sentence):\n",
    "    # generate probabilities from the model\n",
    "    results = model.predict([bow(sentence, words)])[0]\n",
    "    #print(results)\n",
    "    # filter out predictions below a threshold\n",
    "    results = [[i,r] for i,r in enumerate(results) if r>ERROR_THRESHOLD]\n",
    "    # sort by strength of probability\n",
    "    results.sort(key=lambda x: x[1], reverse=True)\n",
    "    return_list = []\n",
    "    for r in results:\n",
    "        return_list.append((classes[r[0]], r[1]))\n",
    "    # return tuple of intent and probability\n",
    "    return return_list\n",
    "\n",
    "def more_response(key):\n",
    "    if key in [\"yes\", \"of course\", \"sure\", \"certainly\", \"absolutely\", \"yeah\", \"yep\", \"yup\", \"ya\", \"yea\", \"aye\"]:\n",
    "        sentence_new = input(\"Okay, please tell me any possible symptoms. The more details, the better!\")\n",
    "        return response(sentence_new,0)\n",
    "    elif key in [\"negative\", \"nope\", \"no\", \"nah\", \"no way\", \"nay\"]:\n",
    "        return print(\"Okay, thanks for visiting iDoctor. Enjoy the rest of your day!\")\n",
    "    else:\n",
    "        more = input(\"Sorry, I couldn't understand that. Would you like more diagnosis?\")\n",
    "        return more_response(more.strip().lower())\n",
    "\n",
    "def response(sentence, counter):\n",
    "    if counter <= 2:\n",
    "        results = classify(sentence)\n",
    "    # if we have a classification then find the matching intent tag\n",
    "        #if results and len(sentence) >= 10:\n",
    "            # loop as long as there are matches to process\n",
    "            #print(\"Here are some likely conditions you may have:\\n\")\n",
    "            #for i in range(0,min(3,len(results))):\n",
    "                #print((results[i])[0] + \": \" + classes_details[(results[i])[0]])\n",
    "           # more = input(\"Is there anything else you would like me to diagnose?\")\n",
    "            #return more_response(more.strip().lower())\n",
    "#         else:\n",
    "#             counter += 1\n",
    "#             sentence_add = input(\"Unfortunately, I do not have enough information. Please tell me more!\")\n",
    "#             sentence = sentence + \" \" + sentence_add\n",
    "#             print(\"SENTENCE UP UNTIL THIS POINT: \" + sentence)\n",
    "#             return response(sentence, counter)\n",
    "    else:\n",
    "        total_responses = \"\"\n",
    "        return print(\"Unfortunately, I cannot help diagnose your medical condition. Please consult a medical professional such as your family doctor. Enjoy the rest of your day!\")\n",
    "\n",
    "def main():\n",
    "    print(\"Hi there, my name is iDoctor. Today I will be helping to diagnose any possible medical conditions you may have. Let's get started!\")\n",
    "    name = input(\"Firstly, what is your name?\")\n",
    "    sentence = input(\"Hi \" + name + \"! Please tell me how you are feeling, and any possible symptoms you may be experiencing. The more details, the better!\")\n",
    "    response(sentence, 0)"
   ]
  },
  {
   "cell_type": "code",
   "execution_count": null,
   "metadata": {},
   "outputs": [],
   "source": [
    "classify(\"I have recently had a lot of vaginal discharge\")"
   ]
  },
  {
   "cell_type": "code",
   "execution_count": null,
   "metadata": {},
   "outputs": [],
   "source": [
    "print(words)"
   ]
  },
  {
   "cell_type": "code",
   "execution_count": null,
   "metadata": {},
   "outputs": [],
   "source": [
    "main()"
   ]
  }
 ],
 "metadata": {
  "kernelspec": {
   "display_name": "Python 3",
   "language": "python",
   "name": "python3"
  },
  "language_info": {
   "codemirror_mode": {
    "name": "ipython",
    "version": 3
   },
   "file_extension": ".py",
   "mimetype": "text/x-python",
   "name": "python",
   "nbconvert_exporter": "python",
   "pygments_lexer": "ipython3",
   "version": "3.5.4"
  }
 },
 "nbformat": 4,
 "nbformat_minor": 2
}
